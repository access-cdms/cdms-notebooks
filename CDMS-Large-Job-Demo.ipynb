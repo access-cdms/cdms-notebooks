{
 "cells": [
  {
   "cell_type": "markdown",
   "id": "a79e122d",
   "metadata": {},
   "source": [
    "# CDMS Large Job Demo"
   ]
  },
  {
   "cell_type": "markdown",
   "id": "c2c73039",
   "metadata": {},
   "source": [
    "This notebook will demonstrate how the new large job functionality works for CDMS."
   ]
  },
  {
   "cell_type": "code",
   "execution_count": 1,
   "id": "3a25f64b",
   "metadata": {},
   "outputs": [],
   "source": [
    "import requests\n",
    "import json\n",
    "import time\n",
    "from urllib.parse import urljoin\n",
    "from datetime import datetime, timedelta\n",
    "\n",
    "\n",
    "CDMS_HOST = 'https://doms.jpl.nasa.gov'"
   ]
  },
  {
   "cell_type": "markdown",
   "id": "68207328",
   "metadata": {},
   "source": [
    "## Submit a matchup request"
   ]
  },
  {
   "cell_type": "code",
   "execution_count": 2,
   "id": "0eefcffe",
   "metadata": {},
   "outputs": [],
   "source": [
    "match_params = {\n",
    "    'primary': 'JPL-L4-MRVA-CHLA-GLOB-v3.0',\n",
    "    'secondary': 'shark-2018',\n",
    "    'startTime': '2018-04-01T00:00:00Z',\n",
    "    'endTime': '2018-04-01T23:59:59Z',\n",
    "    'tt': 86400,  # Time tolerance in seconds\n",
    "    'rt': 50000,  # Spatial tolerance in meters\n",
    "    'b': '-140,10,-110,40',\n",
    "    'platforms': '3B',\n",
    "    'parameter': 'mass_concentration_of_chlorophyll_in_sea_water',\n",
    "    'depthMin': -5,\n",
    "    'depthMax': 5,\n",
    "    'matchOnce': 'true',\n",
    "    'resultSizeLimit': 100\n",
    "}\n",
    "\n",
    "matchup_endpoint = 'match_spark'\n",
    "response = requests.get(\n",
    "    urljoin(CDMS_HOST, matchup_endpoint), \n",
    "    params=match_params\n",
    ")"
   ]
  },
  {
   "cell_type": "code",
   "execution_count": 3,
   "id": "9dcd6b36",
   "metadata": {},
   "outputs": [
    {
     "name": "stdout",
     "output_type": "stream",
     "text": [
      "Match request submission endpoint took 0.841938 seconds.\n"
     ]
    }
   ],
   "source": [
    "response.raise_for_status()\n",
    "response_json = response.json()\n",
    "print(f'Match request submission endpoint took {response.elapsed.total_seconds()} seconds.')"
   ]
  },
  {
   "cell_type": "code",
   "execution_count": 4,
   "id": "a4220ab9",
   "metadata": {},
   "outputs": [
    {
     "name": "stdout",
     "output_type": "stream",
     "text": [
      "{\n",
      "  \"status\": \"running\",\n",
      "  \"message\": \"\",\n",
      "  \"createdAt\": \"2023-12-11 18:18:53.582000\",\n",
      "  \"updatedAt\": null,\n",
      "  \"links\": [\n",
      "    {\n",
      "      \"href\": \"https://doms.jpl.nasa.gov/job?id=dcfbd7cf-c5b9-4d40-9cbd-d169961fb8cc\",\n",
      "      \"title\": \"Get job status - the current page\",\n",
      "      \"type\": \"application/json\",\n",
      "      \"rel\": \"self\"\n",
      "    },\n",
      "    {\n",
      "      \"href\": \"https://doms.jpl.nasa.gov/job/cancel?id=dcfbd7cf-c5b9-4d40-9cbd-d169961fb8cc\",\n",
      "      \"title\": \"Cancel the job\",\n",
      "      \"rel\": \"cancel\"\n",
      "    }\n",
      "  ],\n",
      "  \"params\": {\n",
      "    \"primary\": \"JPL-L4-MRVA-CHLA-GLOB-v3.0\",\n",
      "    \"matchup\": \"shark-2018\",\n",
      "    \"startTime\": \"2018-04-01 00:00:00+00:00\",\n",
      "    \"endTime\": \"2018-04-01 23:59:59+00:00\",\n",
      "    \"bbox\": \"-140,10,-110,40\",\n",
      "    \"timeTolerance\": 86400,\n",
      "    \"radiusTolerance\": 50000.0,\n",
      "    \"platforms\": \"3B\",\n",
      "    \"parameter\": \"mass_concentration_of_chlorophyll_in_sea_water\",\n",
      "    \"depthMin\": -5.0,\n",
      "    \"depthMax\": 5.0\n",
      "  },\n",
      "  \"executionID\": \"dcfbd7cf-c5b9-4d40-9cbd-d169961fb8cc\"\n",
      "}\n"
     ]
    }
   ],
   "source": [
    "print(json.dumps(response_json, indent=2))"
   ]
  },
  {
   "cell_type": "markdown",
   "id": "641cb534",
   "metadata": {},
   "source": [
    "The match_spark endpoint will immediately redirect to the `/job?id=X` endpoint once the job is submitted in the backend, which is what we see above. \n",
    "\n",
    "The output above has a few fields of note:\n",
    "\n",
    "- `executionID`: This ID is used for the rest of the queries we'll go over.\n",
    "- `status`: A matchup job can have a status of `running`, `cancelled`, `failed` or `completed`\n",
    "- `links`: These [HATEOAS](https://en.wikipedia.org/wiki/HATEOAS#:~:text=Hypermedia%20as%20the%20Engine%20of,from%20other%20network%20application%20architectures.) links allow the user to easily find relevant endpoints for this job.\n",
    "\n",
    "The links available for a running job are:\n",
    "\n",
    "- `self`: The current page. This is the `/job?id=X` endpoint.\n",
    "- `cancel`: The endpoint to cancel the current job.\n",
    "\n",
    "The Job ID endpoint `/job?id=X` should be polled by the user until the job is completed. Let's check if the job is complete. "
   ]
  },
  {
   "cell_type": "markdown",
   "id": "a6720adb",
   "metadata": {},
   "source": [
    "## Check matchup job status"
   ]
  },
  {
   "cell_type": "markdown",
   "id": "213334ff",
   "metadata": {},
   "source": [
    "Check job status. This needs to be done in a loop so we can re-query the `/job?id=X` endpoint until the job is finished. In this case, since this job doesn't take very long, we query the endpoint every 2 seconds. "
   ]
  },
  {
   "cell_type": "code",
   "execution_count": 5,
   "id": "030f68cd",
   "metadata": {},
   "outputs": [
    {
     "name": "stdout",
     "output_type": "stream",
     "text": [
      "{\n",
      "  \"status\": \"success\",\n",
      "  \"message\": \"\",\n",
      "  \"createdAt\": \"2023-12-11 18:18:53.582000\",\n",
      "  \"updatedAt\": \"2023-12-11 18:19:16.704000\",\n",
      "  \"links\": [\n",
      "    {\n",
      "      \"href\": \"https://doms.jpl.nasa.gov/job?id=dcfbd7cf-c5b9-4d40-9cbd-d169961fb8cc\",\n",
      "      \"title\": \"Get job status - the current page\",\n",
      "      \"type\": \"application/json\",\n",
      "      \"rel\": \"self\"\n",
      "    },\n",
      "    {\n",
      "      \"href\": \"https://doms.jpl.nasa.gov/cdmsresults?id=dcfbd7cf-c5b9-4d40-9cbd-d169961fb8cc&output=CSV\",\n",
      "      \"title\": \"Download CSV results\",\n",
      "      \"type\": \"text/csv\",\n",
      "      \"rel\": \"data\"\n",
      "    },\n",
      "    {\n",
      "      \"href\": \"https://doms.jpl.nasa.gov/cdmsresults?id=dcfbd7cf-c5b9-4d40-9cbd-d169961fb8cc&output=JSON\",\n",
      "      \"title\": \"Download JSON results\",\n",
      "      \"type\": \"application/json\",\n",
      "      \"rel\": \"data\"\n",
      "    },\n",
      "    {\n",
      "      \"href\": \"https://doms.jpl.nasa.gov/cdmsresults?id=dcfbd7cf-c5b9-4d40-9cbd-d169961fb8cc&output=NETCDF\",\n",
      "      \"title\": \"Download NETCDF results\",\n",
      "      \"type\": \"binary/octet-stream\",\n",
      "      \"rel\": \"data\"\n",
      "    }\n",
      "  ],\n",
      "  \"params\": {\n",
      "    \"primary\": \"JPL-L4-MRVA-CHLA-GLOB-v3.0\",\n",
      "    \"matchup\": \"shark-2018\",\n",
      "    \"startTime\": \"2018-04-01 00:00:00+00:00\",\n",
      "    \"endTime\": \"2018-04-01 23:59:59+00:00\",\n",
      "    \"bbox\": \"-140,10,-110,40\",\n",
      "    \"timeTolerance\": 86400,\n",
      "    \"radiusTolerance\": 50000.0,\n",
      "    \"platforms\": \"3B\",\n",
      "    \"parameter\": \"mass_concentration_of_chlorophyll_in_sea_water\",\n",
      "    \"depthMin\": -5.0,\n",
      "    \"depthMax\": 5.0\n",
      "  },\n",
      "  \"executionID\": \"dcfbd7cf-c5b9-4d40-9cbd-d169961fb8cc\",\n",
      "  \"totalPrimaryMatched\": 27,\n",
      "  \"totalSecondaryMatched\": 27,\n",
      "  \"averageSecondaryMatched\": 1,\n",
      "  \"totalUniqueSecondaryMatched\": 20\n",
      "}\n"
     ]
    }
   ],
   "source": [
    "job_id = response_json['executionID']\n",
    "job_endpoint = 'job'\n",
    "\n",
    "response_json = None\n",
    "while response_json is None or response_json['status'] == 'running':\n",
    "    if response_json is not None:\n",
    "        print('Job is still running...')\n",
    "    response = requests.get(\n",
    "        urljoin(CDMS_HOST, job_endpoint),\n",
    "        params={\n",
    "            'id': job_id\n",
    "        }\n",
    "    )\n",
    "    response.raise_for_status()\n",
    "    response_json = response.json()\n",
    "    time.sleep(2)\n",
    "print(json.dumps(response_json, indent=2))"
   ]
  },
  {
   "cell_type": "markdown",
   "id": "4a94020b",
   "metadata": {},
   "source": [
    "We can see based on the output above the job is complete, because `status=success`. \n",
    "\n",
    "Now that the job is completed, there are new links present in the `links` output. \n",
    "\n",
    "- `CSV` data: Endpoint to download the CSV results from the matchup request that was just run.\n",
    "- `NETCDF` data: Endpoint to download the NetCDF results from the matchup request that was just run.\n",
    "- `JSON` data: Endpoint to retrieve JSON results form the matchup request that was just run."
   ]
  },
  {
   "cell_type": "code",
   "execution_count": 6,
   "id": "9051ae45",
   "metadata": {},
   "outputs": [
    {
     "name": "stdout",
     "output_type": "stream",
     "text": [
      "The CDMS matchup request took 23 seconds to complete.\n"
     ]
    }
   ],
   "source": [
    "time_elapsed = (\n",
    "    datetime.fromisoformat(response_json['updatedAt']) - datetime.fromisoformat(response_json['createdAt'])\n",
    ").seconds\n",
    "print(f'The CDMS matchup request took {time_elapsed} seconds to complete.')"
   ]
  },
  {
   "cell_type": "markdown",
   "id": "d253b07e",
   "metadata": {},
   "source": [
    "## Cancel a matchup job"
   ]
  },
  {
   "cell_type": "markdown",
   "id": "a0f5c093",
   "metadata": {},
   "source": [
    "To demonstrate job cancellation, we will submit a matchup job and then immediately cancel the submitted job."
   ]
  },
  {
   "cell_type": "code",
   "execution_count": 7,
   "id": "99b643f5",
   "metadata": {},
   "outputs": [
    {
     "name": "stdout",
     "output_type": "stream",
     "text": [
      "{\n",
      "  \"status\": \"cancelled\",\n",
      "  \"message\": \"\",\n",
      "  \"createdAt\": \"2023-12-11 18:20:28.541000\",\n",
      "  \"updatedAt\": \"2023-12-11 18:20:30.288000\",\n",
      "  \"links\": [\n",
      "    {\n",
      "      \"href\": \"https://doms.jpl.nasa.gov/job?id=6fa7d7a5-0bbb-43be-9097-7ce7082bac56\",\n",
      "      \"title\": \"Get job status - the current page\",\n",
      "      \"type\": \"application/json\",\n",
      "      \"rel\": \"self\"\n",
      "    }\n",
      "  ],\n",
      "  \"params\": {\n",
      "    \"primary\": \"JPL-L4-MRVA-CHLA-GLOB-v3.0\",\n",
      "    \"matchup\": \"shark-2018\",\n",
      "    \"startTime\": \"2018-04-01 00:00:00+00:00\",\n",
      "    \"endTime\": \"2018-04-01 23:59:59+00:00\",\n",
      "    \"bbox\": \"-140,10,-110,40\",\n",
      "    \"timeTolerance\": 86400,\n",
      "    \"radiusTolerance\": 50000.0,\n",
      "    \"platforms\": \"3B\",\n",
      "    \"parameter\": \"mass_concentration_of_chlorophyll_in_sea_water\",\n",
      "    \"depthMin\": -5.0,\n",
      "    \"depthMax\": 5.0\n",
      "  },\n",
      "  \"executionID\": \"6fa7d7a5-0bbb-43be-9097-7ce7082bac56\"\n",
      "}\n"
     ]
    }
   ],
   "source": [
    "response = requests.get(\n",
    "    urljoin(CDMS_HOST, matchup_endpoint), \n",
    "    params=match_params\n",
    ")\n",
    "response.raise_for_status()\n",
    "response_json = response.json()\n",
    "\n",
    "# Get Job ID\n",
    "job_id = response_json['executionID']\n",
    "\n",
    "# Cancel job\n",
    "job_cancel_endpoint = 'job/cancel'\n",
    "response = requests.get(\n",
    "    urljoin(CDMS_HOST, job_cancel_endpoint),\n",
    "    params={\n",
    "        'id': job_id\n",
    "    }\n",
    ")\n",
    "response.raise_for_status()\n",
    "response_json = response.json()\n",
    "print(json.dumps(response_json, indent=2))"
   ]
  },
  {
   "cell_type": "code",
   "execution_count": null,
   "id": "94e3a49d",
   "metadata": {},
   "outputs": [],
   "source": []
  }
 ],
 "metadata": {
  "kernelspec": {
   "display_name": "Python 3 (ipykernel)",
   "language": "python",
   "name": "python3"
  },
  "language_info": {
   "codemirror_mode": {
    "name": "ipython",
    "version": 3
   },
   "file_extension": ".py",
   "mimetype": "text/x-python",
   "name": "python",
   "nbconvert_exporter": "python",
   "pygments_lexer": "ipython3",
   "version": "3.9.16"
  }
 },
 "nbformat": 4,
 "nbformat_minor": 5
}
