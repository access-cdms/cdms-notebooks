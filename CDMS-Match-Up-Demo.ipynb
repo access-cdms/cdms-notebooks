{
 "cells": [
  {
   "cell_type": "markdown",
   "metadata": {},
   "source": [
    "# CDMS Match Up Demo\n",
    "Cloud-based Data Matchup Service (CDMS) allows users to collocate satellite to in situ and satellite to satellite data. \n",
    "\n",
    "In this notebook, the in situ data subsetting and match-up features will be demonstrated."
   ]
  },
  {
   "cell_type": "code",
   "execution_count": null,
   "metadata": {},
   "outputs": [],
   "source": [
    "import requests\n",
    "import json\n",
    "import pandas as pd\n",
    "import geopandas as gpd\n",
    "from urllib.parse import urljoin, urlencode\n",
    "import numpy as np\n",
    "\n",
    "from mpl_toolkits.basemap import Basemap\n",
    "import matplotlib.pyplot as plt\n",
    "import matplotlib.patches as patches\n",
    "from matplotlib.lines import Line2D\n",
    "\n",
    "import cdms_reader"
   ]
  },
  {
   "cell_type": "markdown",
   "metadata": {},
   "source": [
    "### List available satellite and in situ datasets"
   ]
  },
  {
   "cell_type": "code",
   "execution_count": null,
   "metadata": {},
   "outputs": [],
   "source": [
    "response = requests.get(\"https://doms.jpl.nasa.gov/list\").json()\n",
    "pd.set_option('display.max_colwidth', None)\n",
    "df = pd.DataFrame(response)[['title', 'iso_start', 'iso_end']]\n",
    "df.sort_values('title')"
   ]
  },
  {
   "cell_type": "code",
   "execution_count": null,
   "metadata": {},
   "outputs": [],
   "source": [
    "in_situ_list = []\n",
    "# manually add in situ metadata to list \n",
    "in_situ_list.append({\"title\": \"ICOADS Release 3.0\", \"iso_start\": \"2017-01-01T00:00:00+0000\",\"iso_end\": \"2018-12-31T23:59:59+0000\"})\n",
    "in_situ_list.append({\"title\": \"SAMOS\", \"iso_start\": \"2017-01-01T00:00:00+0000\",\"iso_end\": \"2018-12-31T23:59:59+0000\"})\n",
    "in_situ_list.append({\"title\": \"1021_atlantic\", \"iso_start\": \"2019-01-30T01:00:00+0000\",\"iso_end\": \"2019-10-16T16:00:00+0000\"})\n",
    "in_situ_list.append({\"title\": \"antarctic_circumnavigation_2019\", \"iso_start\": \"2019-01-19T00:00:00+0000\",\"iso_end\": \"2020-08-15T00:00:00+0000\"})\n",
    "in_situ_list.append({\"title\": \"atlantic_to_med_2019_to_2020\", \"iso_start\": \"2019-10-18T10:12:00+0000\",\"iso_end\": \"2020-07-17T13:45:00+0000\"})\n",
    "in_situ_list.append({\"title\": \"shark-2018\", \"iso_start\": \"2018-03-15T20:00:00+0000\",\"iso_end\": \"2018-06-17T00:00:00+0000\"})\n",
    "\n",
    "insitu_df = pd.DataFrame(in_situ_list)[['title', 'iso_start', 'iso_end']]\n",
    "insitu_df"
   ]
  },
  {
   "cell_type": "markdown",
   "metadata": {},
   "source": [
    "### Subset in situ dataset and plot"
   ]
  },
  {
   "cell_type": "code",
   "execution_count": null,
   "metadata": {},
   "outputs": [],
   "source": [
    "query_params = {\n",
    "    'provider': 'Saildrone',\n",
    "    'project': 'shark-2018',\n",
    "    'startTime': '2018-04-01T00:00:00Z',\n",
    "    'endTime': '2018-04-07T23:59:59Z',\n",
    "    'bbox': '-180,-90,180,90',\n",
    "    'platform': '3B',\n",
    "    'minDepth': -5,\n",
    "    'maxDepth': 5,\n",
    "    'variable': 'mass_concentration_of_chlorophyll_in_sea_water',\n",
    "    'columns': 'mass_concentration_of_chlorophyll_in_sea_water',\n",
    "    'startIndex': 0,\n",
    "    'itemsPerPage': 15000\n",
    "}"
   ]
  },
  {
   "cell_type": "code",
   "execution_count": null,
   "metadata": {},
   "outputs": [],
   "source": [
    "in_situ_url = 'https://nasa-cdms.saildrone.com/1.0/query_data_doms_custom_pagination'\n",
    "full_in_situ_url = f'{in_situ_url}?{urlencode(query_params)}'\n",
    "print(full_in_situ_url)\n",
    "response = requests.get(full_in_situ_url).json()\n",
    "print(f'Total number of points returned {response[\"total\"]}')\n",
    "insitu_df = pd.DataFrame(response[\"results\"])\n",
    "insitu_df.head() # show first few records"
   ]
  },
  {
   "cell_type": "code",
   "execution_count": null,
   "metadata": {},
   "outputs": [],
   "source": [
    "# Simple plot of data\n",
    "insitu_df.plot(x='longitude', y='latitude', kind='scatter', c='mass_concentration_of_chlorophyll_in_sea_water', colormap='YlOrRd')\n"
   ]
  },
  {
   "cell_type": "code",
   "execution_count": null,
   "metadata": {},
   "outputs": [],
   "source": [
    "# Plot with a map \n",
    "\n",
    "# initialize an axis\n",
    "fig, ax = plt.subplots(figsize=(15,5))\n",
    "\n",
    "# plot map on axis\n",
    "countries = gpd.read_file(gpd.datasets.get_path('naturalearth_lowres'))\n",
    "#print(countries)\n",
    "countries[countries['continent'] == 'North America'].plot(color='lightgrey', ax=ax)\n",
    "\n",
    "# parse dates for plot's title\n",
    "first = insitu_df['time'].min()\n",
    "last = insitu_df['time'].max()\n",
    "\n",
    "# plot points\n",
    "insitu_df.plot(x='longitude', y='latitude', kind='scatter', \n",
    "        c='mass_concentration_of_chlorophyll_in_sea_water', colormap='YlOrRd', \n",
    "        title=f'{first} to {last}', \n",
    "        ax=ax)\n",
    "\n",
    "# add grid\n",
    "ax.grid(alpha=0.5)\n",
    "plt.show()\n"
   ]
  },
  {
   "cell_type": "markdown",
   "metadata": {},
   "source": [
    "### Run satellite to in situ matchup query\n",
    "Match JPL-L4-MRVA-CHLA-GLOB-v3.0 with Saildrone White Shark Café"
   ]
  },
  {
   "cell_type": "code",
   "execution_count": null,
   "metadata": {},
   "outputs": [],
   "source": [
    "matchup_url = 'https://doms.jpl.nasa.gov/match_spark'"
   ]
  },
  {
   "cell_type": "code",
   "execution_count": null,
   "metadata": {},
   "outputs": [],
   "source": [
    "def execute_matchup_request(query_params, in_situ_variable_name=None):\n",
    "    full_matchup_url = f'{matchup_url}?{urlencode(query_params)}'\n",
    "    print(full_matchup_url)\n",
    "    \n",
    "    response = requests.get(full_matchup_url)\n",
    "    response = response.json()\n",
    "    \n",
    "    primary_points = []\n",
    "    secondary_points = []\n",
    "    for primary_point in response['data']:\n",
    "        for variable in primary_point['matches'][0]['secondary']:\n",
    "            if in_situ_variable_name:\n",
    "                if variable['variable_name'] == in_situ_variable_name:\n",
    "                    primary_points.append((float(primary_point['lon']), float(primary_point['lat']), float(primary_point['primary'][0]['variable_value'])))\n",
    "                    secondary_points.append((float(primary_point['matches'][0]['lon']), float(primary_point['matches'][0]['lat']), float(variable['variable_value'])))\n",
    "            else:\n",
    "                # pick the first variable\n",
    "                primary_points.append((float(primary_point['lon']), float(primary_point['lat']), float(primary_point['primary'][0]['variable_value'])))\n",
    "                secondary_points.append((float(primary_point['matches'][0]['lon']), float(primary_point['matches'][0]['lat']), float(variable['variable_value'])))\n",
    "                break\n",
    "    print(f'Total number of primary matched points {len(primary_points)}')\n",
    "    print(f'Total number of secondary matched points {len(secondary_points)}')\n",
    "    return primary_points, secondary_points, response['executionId']"
   ]
  },
  {
   "cell_type": "code",
   "execution_count": null,
   "metadata": {},
   "outputs": [],
   "source": [
    "query_params = {\n",
    "    'primary': 'JPL-L4-MRVA-CHLA-GLOB-v3.0',\n",
    "    'secondary': 'shark-2018',\n",
    "    'startTime': '2018-04-01T00:00:00Z',\n",
    "    'endTime': '2018-04-01T23:59:59Z',\n",
    "    'tt': 86400,  # Time tolerance in seconds\n",
    "    'rt': 50000,  # Spatial tolerance in meters\n",
    "    'b': '-140,10,-110,40',\n",
    "    'platforms': '3B',\n",
    "    'parameter': 'mass_concentration_of_chlorophyll_in_sea_water',\n",
    "    'depthMin': -5,\n",
    "    'depthMax': 5,\n",
    "    'matchOnce': 'true',\n",
    "    'resultSizeLimit': 100\n",
    "}"
   ]
  },
  {
   "cell_type": "code",
   "execution_count": null,
   "metadata": {},
   "outputs": [],
   "source": [
    "primary_points, secondary_points, execution_id = execute_matchup_request(query_params, query_params['parameter'])"
   ]
  },
  {
   "cell_type": "code",
   "execution_count": null,
   "metadata": {},
   "outputs": [],
   "source": [
    "def plot_points(primary_points, secondary_points):\n",
    "    plt.figure(figsize=(20,5), dpi=500) \n",
    "    min_lon = min([point[0] for point in primary_points])\n",
    "    max_lon = max([point[0] for point in primary_points])\n",
    "    min_lat = min([point[1] for point in primary_points])\n",
    "    max_lat = min([point[1] for point in primary_points])\n",
    "    basemap = Basemap(\n",
    "        projection='mill',\n",
    "        lon_0=180,\n",
    "        llcrnrlat=min_lat - 50,\n",
    "        urcrnrlat=max_lat + 50,\n",
    "        llcrnrlon=min_lon - 50,\n",
    "        urcrnrlon=max_lon + 50\n",
    "    )\n",
    "    basemap.drawlsmask(\n",
    "        land_color='lightgrey',\n",
    "        ocean_color='white',\n",
    "        lakes=True\n",
    "    )\n",
    "\n",
    "    # transform coordinates\n",
    "    x1, y1 = basemap([point[0] for point in primary_points], [point[1] for point in primary_points])  \n",
    "    x2, y2 = basemap([point[0] for point in secondary_points], [point[1] for point in secondary_points])\n",
    "    \n",
    "    # Draw scatter points\n",
    "    plt.scatter(x2, y2, 10, marker='o', color='Blue', label='Primary point')\n",
    "    plt.scatter(x1, y1, 10, marker='*', color='Green', label='Secondary point')\n",
    "\n",
    "    # transform input bbox\n",
    "    bx, by = basemap([-140, -110], [40, 10])  \n",
    "    \n",
    "    # Draw user provided bounds\n",
    "    plt.gca().add_patch(patches.Rectangle(\n",
    "        (bx[0], by[1]), abs(bx[0] - bx[1]), abs(by[0] - by[1]), \n",
    "        linewidth=1, \n",
    "        edgecolor='r', \n",
    "        facecolor='none'\n",
    "    ))\n",
    "    \n",
    "    # Show legend\n",
    "    handles, labels = plt.gca().get_legend_handles_labels()\n",
    "    bbox_legend = Line2D(\n",
    "        [0], [0], \n",
    "        color='red', \n",
    "        linewidth=1, \n",
    "        linestyle='-', \n",
    "        label='User search domain'\n",
    "    )\n",
    "    handles.append(bbox_legend)\n",
    "    plt.legend(loc='upper left', handles=handles)\n",
    "    \n",
    "    plt.show()"
   ]
  },
  {
   "cell_type": "code",
   "execution_count": null,
   "metadata": {},
   "outputs": [],
   "source": [
    "plot_points(primary_points, secondary_points)"
   ]
  },
  {
   "cell_type": "code",
   "execution_count": null,
   "metadata": {},
   "outputs": [],
   "source": [
    "def generate_diff_plot(primary_points, secondary_points, primary_name, secondary_name, units):\n",
    "    diffs = [primary_point[2] - secondary_point[2] for primary_point, secondary_point in zip(primary_points, secondary_points)]\n",
    "    \n",
    "    plt.figure(figsize=(20,5), dpi=500) \n",
    "    min_lon = min([point[0] for point in primary_points])\n",
    "    max_lon = max([point[0] for point in primary_points])\n",
    "    min_lat = min([point[1] for point in primary_points])\n",
    "    max_lat = min([point[1] for point in primary_points])\n",
    "    basemap = Basemap(\n",
    "        projection='mill',\n",
    "        lon_0=180,\n",
    "        llcrnrlat=min_lat - 10,\n",
    "        urcrnrlat=max_lat + 10,\n",
    "        llcrnrlon=min_lon - 10,\n",
    "        urcrnrlon=max_lon + 10\n",
    "    )\n",
    "    basemap.drawlsmask(\n",
    "        land_color='lightgrey',\n",
    "        ocean_color='white',\n",
    "        lakes=True\n",
    "    )\n",
    "\n",
    "    # transform coordinates\n",
    "    x1, y1 = basemap([point[0] for point in primary_points], [point[1] for point in primary_points])  \n",
    "    x2, y2 = basemap([point[0] for point in secondary_points], [point[1] for point in secondary_points])\n",
    "    \n",
    "    # Customize colormap/colorbar\n",
    "    cmap = plt.cm.coolwarm\n",
    "    # Draw scatter points\n",
    "    sc = plt.scatter(x2, y2, 30, marker='o', c=diffs, alpha=0.7, cmap=cmap)\n",
    "\n",
    "    cb = plt.colorbar(sc)\n",
    "    cb.ax.set_title(units,fontsize=8)        \n",
    "    plt.title(f'Difference plot between {primary_name} and {secondary_name}')"
   ]
  },
  {
   "cell_type": "code",
   "execution_count": null,
   "metadata": {},
   "outputs": [],
   "source": [
    "generate_diff_plot(primary_points, secondary_points, query_params['primary'], query_params['secondary'], 'milligram m-3')"
   ]
  },
  {
   "cell_type": "markdown",
   "metadata": {},
   "source": [
    "### Run satellite to in situ matchup query\n",
    "\n",
    "Match MUR25-JPL-L4-GLOB-v04.2 with ICOADS Release 3.0"
   ]
  },
  {
   "cell_type": "code",
   "execution_count": null,
   "metadata": {},
   "outputs": [],
   "source": [
    "query_params = {\n",
    "    'primary': 'MUR25-JPL-L4-GLOB-v04.2',\n",
    "    'secondary': 'ICOADS_JPL',\n",
    "    'startTime': '2018-04-01T00:00:00Z',\n",
    "    'endTime': '2018-04-01T23:59:59Z',\n",
    "    'tt': 86400,  # Time tolerance in seconds\n",
    "    'rt': 50000,  # Spatial tolerance in meters\n",
    "    'b': '-140,10,-110,40',\n",
    "    'platforms': '42',\n",
    "    'parameter': 'sea_water_temperature',\n",
    "    'depthMin': -5,\n",
    "    'depthMax': 5,\n",
    "    'matchOnce': 'true',\n",
    "    'resultSizeLimit': 0\n",
    "}\n",
    "\n",
    "primary_points, secondary_points, execution_id = execute_matchup_request(query_params, query_params['parameter'])"
   ]
  },
  {
   "cell_type": "code",
   "execution_count": null,
   "metadata": {},
   "outputs": [],
   "source": [
    "def fetch_result(execution_id, output_format, output_file, primary_variable, secondary_variable):\n",
    "    match_up_results_csv = f'{output_file}.csv'\n",
    "    response = requests.get(\"https://doms.jpl.nasa.gov/domsresults\", params={\"id\": execution_id, \"output\": output_format})\n",
    "    with open(output_file, mode='wb') as f:\n",
    "        f.write(response.content)\n",
    "\n",
    "    matches = cdms_reader.assemble_matches(output_file)\n",
    "\n",
    "    cdms_reader.matches_to_csv(matches, match_up_results_csv)\n",
    "    \n",
    "    columns_to_include = [\"PrimaryData_lon\", \"PrimaryData_lat\", \"PrimaryData_datetime\", \"SecondaryData_lon\", \"SecondaryData_lat\", \"SecondaryData_datetime\"]\n",
    "    for variable in primary_variable:\n",
    "        columns_to_include.append(f'PrimaryData_{variable}')\n",
    "    for variable in secondary_variable:\n",
    "        columns_to_include.append(f'SecondaryData_{variable}')\n",
    "    return pd.read_csv(match_up_results_csv, usecols=columns_to_include)"
   ]
  },
  {
   "cell_type": "code",
   "execution_count": null,
   "metadata": {},
   "outputs": [],
   "source": [
    "df = fetch_result(execution_id, \"NETCDF\", \"mur_to_icoads_results.nc\", [\"sea_surface_foundation_temperature\"], [\"sea_water_temperature\"])\n",
    "df"
   ]
  },
  {
   "cell_type": "code",
   "execution_count": null,
   "metadata": {},
   "outputs": [],
   "source": [
    "def generate_scatter_plot(primary_points, secondary_points, primary_name, secondary_name, variable_name, units):\n",
    "    x = np.array([point[2] for point in secondary_points])\n",
    "    y = np.array([point[2] for point in primary_points])\n",
    "    m, b = np.polyfit(x, y, 1)\n",
    "    fig, ax = plt.subplots()\n",
    "    ax.set_title(f'{variable_name} scatter\\n{primary_name} vs. {secondary_name}')\n",
    "    ax.set_xlabel(\"%s %s\" % (secondary_name, units))\n",
    "    ax.set_ylabel(\"%s %s\" % (primary_name, units))\n",
    "    ax.scatter(x, y)\n",
    "    ax.plot(x, m*x+b);\n",
    "    ax.plot([0,1],[0,1], transform=ax.transAxes)"
   ]
  },
  {
   "cell_type": "code",
   "execution_count": null,
   "metadata": {},
   "outputs": [],
   "source": [
    "generate_scatter_plot(primary_points, secondary_points, query_params['primary'], query_params['secondary'], query_params['parameter'], '°C')"
   ]
  },
  {
   "cell_type": "markdown",
   "metadata": {},
   "source": [
    "### Run satellite to in situ matchup query\n",
    "\n",
    "Match ASCATB-L2-Coastal with SAMOS\n"
   ]
  },
  {
   "cell_type": "code",
   "execution_count": null,
   "metadata": {},
   "outputs": [],
   "source": [
    "query_params = {\n",
    "    'primary': 'ASCATB-L2-Coastal',\n",
    "    'secondary': 'SAMOS',\n",
    "    'startTime': '2017-05-01T00:00:00Z',\n",
    "    'endTime': '2017-05-04T23:59:59Z',\n",
    "    'tt': 43200,  # Time tolerance in seconds\n",
    "    'rt': 50000,  # Spatial tolerance in meters\n",
    "    'b': '-100,20,-90,30',\n",
    "    'platforms': '30',\n",
    "    'parameter': 'wind_speed',\n",
    "    'depthMin': -10,\n",
    "    'depthMax': 10,\n",
    "    'matchOnce': 'true',\n",
    "    'resultSizeLimit': 0\n",
    "}\n",
    "\n",
    "primary_points, secondary_points, execution_id = execute_matchup_request(query_params, query_params[\"parameter\"])"
   ]
  },
  {
   "cell_type": "code",
   "execution_count": null,
   "metadata": {},
   "outputs": [],
   "source": [
    "df = fetch_result(execution_id, \"NETCDF\", \"ascat_to_samos_results.nc\", [query_params[\"parameter\"]], [query_params[\"parameter\"], \"depth\"])\n",
    "df"
   ]
  },
  {
   "cell_type": "code",
   "execution_count": null,
   "metadata": {},
   "outputs": [],
   "source": [
    "generate_diff_plot(primary_points, secondary_points, query_params['primary'], query_params['secondary'], 'm s-1')"
   ]
  },
  {
   "cell_type": "code",
   "execution_count": null,
   "metadata": {},
   "outputs": [],
   "source": [
    "generate_scatter_plot(primary_points, secondary_points, query_params['primary'], query_params['secondary'], query_params['parameter'], 'm s-1')"
   ]
  },
  {
   "cell_type": "markdown",
   "metadata": {},
   "source": [
    "### Run satellite to satellite matchup query\n",
    "Match SMAP_JPL_L3_SSS_CAP_8DAY-RUNNINGMEAN_V5 with OISSS_L4_multimission_7day_v1"
   ]
  },
  {
   "cell_type": "code",
   "execution_count": null,
   "metadata": {},
   "outputs": [],
   "source": [
    "query_params = {\n",
    "    'primary': 'SMAP_JPL_L3_SSS_CAP_8DAY-RUNNINGMEAN_V5',\n",
    "    'secondary': 'OISSS_L4_multimission_7day_v1',\n",
    "    'startTime': '2018-08-01T00:00:00Z',\n",
    "    'endTime': '2018-08-02T00:00:00Z',\n",
    "    'tt': 604800,  # Time tolerance in seconds\n",
    "    'rt': 50000,  # Spatial tolerance in meters\n",
    "    'b': '-100,20,-90,30',\n",
    "    'platforms': '65',\n",
    "    'parameter': 'sea_surface_salinity',\n",
    "    'depthMin': -20,\n",
    "    'depthMax': 10,\n",
    "    'matchOnce': 'true',\n",
    "    'resultSizeLimit': 0\n",
    "}\n",
    "\n",
    "primary_points, secondary_points, execution_id = execute_matchup_request(query_params)"
   ]
  },
  {
   "cell_type": "code",
   "execution_count": null,
   "metadata": {},
   "outputs": [],
   "source": [
    "df = fetch_result(execution_id, \"NETCDF\", \"smap_sss_to_oisss_results.nc\", [query_params['parameter']], [query_params['parameter']])\n",
    "df"
   ]
  },
  {
   "cell_type": "code",
   "execution_count": null,
   "metadata": {},
   "outputs": [],
   "source": [
    "generate_diff_plot(primary_points, secondary_points, query_params['primary'], query_params['secondary'], '1e-3')"
   ]
  },
  {
   "cell_type": "code",
   "execution_count": null,
   "metadata": {},
   "outputs": [],
   "source": [
    "generate_scatter_plot(primary_points, secondary_points, query_params['primary'], query_params['secondary'], query_params['parameter'], '1e-3')"
   ]
  },
  {
   "cell_type": "markdown",
   "metadata": {},
   "source": [
    "### Run satellite to satellite matchup query\n",
    "\n",
    "Match ASCATB-L2-Coastal with MUR25-JPL-L4-GLOB-v04.2"
   ]
  },
  {
   "cell_type": "code",
   "execution_count": null,
   "metadata": {},
   "outputs": [],
   "source": [
    "query_params = {\n",
    "    'primary': 'ASCATB-L2-Coastal',\n",
    "    'secondary': 'MUR25-JPL-L4-GLOB-v04.2',\n",
    "    'startTime': '2018-08-01T00:00:00Z',\n",
    "    'endTime': '2018-08-02T00:00:00Z',\n",
    "    'tt': 43200,  # Time tolerance in seconds\n",
    "    'rt': 50000,  # Spatial tolerance in meters\n",
    "    'b': '-100,20,-90,30',\n",
    "    'platforms': '65',\n",
    "    'depthMin': -20,\n",
    "    'depthMax': 10,\n",
    "    'matchOnce': 'true',\n",
    "    'resultSizeLimit': 0\n",
    "}\n",
    "\n",
    "primary_points, secondary_points, execution_id = execute_matchup_request(query_params)"
   ]
  },
  {
   "cell_type": "code",
   "execution_count": null,
   "metadata": {},
   "outputs": [],
   "source": [
    "df = fetch_result(execution_id, \"NETCDF\", \"ascat_l2_to_mur_l4_results.nc\", [\"wind_speed\", \"wind_to_direction\"], [\"sea_surface_foundation_temperature\"])\n",
    "df"
   ]
  },
  {
   "cell_type": "code",
   "execution_count": null,
   "metadata": {},
   "outputs": [],
   "source": []
  }
 ],
 "metadata": {
  "kernelspec": {
   "display_name": "Python 3 (ipykernel)",
   "language": "python",
   "name": "python3"
  },
  "language_info": {
   "codemirror_mode": {
    "name": "ipython",
    "version": 3
   },
   "file_extension": ".py",
   "mimetype": "text/x-python",
   "name": "python",
   "nbconvert_exporter": "python",
   "pygments_lexer": "ipython3",
   "version": "3.8.13"
  }
 },
 "nbformat": 4,
 "nbformat_minor": 4
}
